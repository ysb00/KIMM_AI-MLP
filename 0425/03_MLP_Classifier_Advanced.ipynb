{
 "cells": [
  {
   "cell_type": "code",
   "execution_count": 1,
   "id": "412c48ff-e5bc-4dcb-87df-a8abadc13180",
   "metadata": {},
   "outputs": [],
   "source": [
    "'''\n",
    "# 패키지가 설치되지 않았을 경우: \"!pip install [패키지명]\" 실행\n",
    "!pip install matplotlib\n",
    "!pip install scikit-learn\n",
    "'''\n",
    "\n",
    "# 필요한 패키지 불러오기\n",
    "import numpy as np\n",
    "import pandas as pd\n",
    "import seaborn as sns\n",
    "import matplotlib.pyplot as plt\n",
    "%matplotlib inline\n",
    "from collections import Counter\n",
    "import random\n",
    "\n",
    "from sklearn.model_selection import train_test_split\n",
    "from sklearn.preprocessing import StandardScaler\n",
    "from sklearn.metrics import accuracy_score, classification_report, confusion_matrix, roc_curve, auc\n",
    "\n",
    "import torch\n",
    "import torch.nn as nn\n",
    "import torch.optim as optim"
   ]
  },
  {
   "cell_type": "code",
   "execution_count": 2,
   "id": "d5d096b1-5efb-406a-9817-707b1ace2f3d",
   "metadata": {},
   "outputs": [],
   "source": [
    "# random seed 고정\n",
    "random.seed(42)\n",
    "np.random.seed(42)\n",
    "\n",
    "torch.manual_seed(42)\n",
    "torch.cuda.manual_seed(42)\n",
    "torch.cuda.manual_seed_all(42)  # multi-GPU 사용 시\n",
    "torch.backends.cudnn.deterministic = True\n",
    "torch.backends.cudnn.benchmark = False"
   ]
  },
  {
   "cell_type": "code",
   "execution_count": 3,
   "id": "30d0b847-7caa-45af-8b59-2a1009032911",
   "metadata": {},
   "outputs": [
    {
     "name": "stdout",
     "output_type": "stream",
     "text": [
      "(1797, 8, 8) (1797,)\n"
     ]
    }
   ],
   "source": [
    "# 다중클래스 분류를 위한 새로운 데이터 입력\n",
    "from sklearn.datasets import load_digits\n",
    "\n",
    "digits = load_digits()\n",
    "images = digits.images;  labels = digits.target\n",
    "\n",
    "print(images.shape, labels.shape)"
   ]
  },
  {
   "cell_type": "code",
   "execution_count": 4,
   "id": "0590c7cb-f902-47f1-9ea0-40315cf3aee4",
   "metadata": {},
   "outputs": [
    {
     "data": {
      "image/png": "[encoded data removed]",
      "text/plain": [
       "<Figure size 1000x600 with 15 Axes>"
      ]
     },
     "metadata": {},
     "output_type": "display_data"
    }
   ],
   "source": [
    "# 이미지 데이터 시각화\n",
    "fig, axes = plt.subplots(3, 5, figsize=(10, 6))\n",
    "axes = axes.ravel()\n",
    "\n",
    "for i in range(15):\n",
    "    axes[i].imshow(images[i], cmap='gray')\n",
    "    axes[i].set_title(f\"Label: {labels[i]}\")\n",
    "    axes[i].axis('off')\n",
    "\n",
    "plt.suptitle(\"Sample Digits Images with Labels\", fontsize=16)\n",
    "plt.tight_layout()\n",
    "plt.show()"
   ]
  },
  {
   "cell_type": "code",
   "execution_count": 5,
   "id": "2cc71d0b-3995-4565-82cc-4fd2bd24b0dc",
   "metadata": {},
   "outputs": [
    {
     "name": "stdout",
     "output_type": "stream",
     "text": [
      "(1797, 64) (1797,)\n"
     ]
    }
   ],
   "source": [
    "# Flatten (MLP용 벡터화)\n",
    "images = images.reshape((len(images), -1)).astype(np.float32)  # (1797, 64)\n",
    "print(images.shape, labels.shape)"
   ]
  },
  {
   "cell_type": "code",
   "execution_count": 6,
   "id": "5edba0fc-ab7c-4cfb-a5c2-111eb6fbf17e",
   "metadata": {},
   "outputs": [
    {
     "name": "stdout",
     "output_type": "stream",
     "text": [
      "(1257, 64) (1257,) (540, 64) (540,)\n"
     ]
    }
   ],
   "source": [
    "# 학습/테스트 데이터 분할\n",
    "X_train, X_test, y_train, y_test = train_test_split(images, labels, stratify=labels, test_size=0.3, random_state=42)\n",
    "print(X_train.shape, y_train.shape, X_test.shape, y_test.shape)"
   ]
  },
  {
   "cell_type": "code",
   "execution_count": 7,
   "id": "111b0415-438c-4d6f-a4b4-d55842b0e0fc",
   "metadata": {},
   "outputs": [
    {
     "name": "stdout",
     "output_type": "stream",
     "text": [
      "3    128\n",
      "1    127\n",
      "5    127\n",
      "6    127\n",
      "4    127\n",
      "9    126\n",
      "7    125\n",
      "0    124\n",
      "2    124\n",
      "8    122\n",
      "dtype: int64\n"
     ]
    }
   ],
   "source": [
    "print(pd.Series(y_train).value_counts())"
   ]
  },
  {
   "cell_type": "code",
   "execution_count": 8,
   "id": "d59bd156-c038-4a55-8a9c-231e4511d2f6",
   "metadata": {},
   "outputs": [
    {
     "name": "stdout",
     "output_type": "stream",
     "text": [
      "1    55\n",
      "3    55\n",
      "5    55\n",
      "0    54\n",
      "6    54\n",
      "7    54\n",
      "4    54\n",
      "9    54\n",
      "2    53\n",
      "8    52\n",
      "dtype: int64\n"
     ]
    }
   ],
   "source": [
    "print(pd.Series(y_test).value_counts())"
   ]
  },
  {
   "cell_type": "code",
   "execution_count": 9,
   "id": "d590b44c-9f51-4989-b1d6-1a4b296c04e5",
   "metadata": {},
   "outputs": [],
   "source": [
    "# 데이터 표준화: Min-max scaler (0-1 사이 변환), Standard scaler (표준정규화)\n",
    "scaler = StandardScaler()\n",
    "X_train = scaler.fit_transform(X_train)\n",
    "X_test = scaler.transform(X_test)"
   ]
  },
  {
   "cell_type": "code",
   "execution_count": 10,
   "id": "3f82d4b5-976a-4e79-9411-626d523787f1",
   "metadata": {},
   "outputs": [
    {
     "name": "stdout",
     "output_type": "stream",
     "text": [
      "Using device: cpu\n"
     ]
    }
   ],
   "source": [
    "# 장치(CPU/GPU) 설정\n",
    "device = torch.device(\"cuda\" if torch.cuda.is_available() else \"cpu\")\n",
    "print(\"Using device:\", device)"
   ]
  },
  {
   "cell_type": "code",
   "execution_count": 11,
   "id": "cfccc660-cc8b-47e0-bafe-5a0f107de047",
   "metadata": {},
   "outputs": [],
   "source": [
    "# Tensor로 변환\n",
    "X_train_tensor = torch.tensor(X_train).to(device)\n",
    "X_test_tensor = torch.tensor(X_test).to(device)\n",
    "y_train_tensor = torch.tensor(y_train).to(device).long() # torch.long: 64비트 정수 (주로 레이블에 사용)\n",
    "y_test_tensor = torch.tensor(y_test).to(device).long()"
   ]
  },
  {
   "cell_type": "code",
   "execution_count": 12,
   "id": "168cc57b-e651-46f0-bfad-839dbfc1c2f3",
   "metadata": {},
   "outputs": [],
   "source": [
    "# MLP 모델 정의\n",
    "class MLP(nn.Module):\n",
    "    def __init__(self):\n",
    "        super(MLP, self).__init__()\n",
    "        self.model = nn.Sequential(\n",
    "            nn.Linear(64, 128),\n",
    "            nn.ReLU(),\n",
    "            nn.Linear(128, 64),\n",
    "            nn.ReLU(),\n",
    "            nn.Linear(64, 10)\n",
    "        )\n",
    "\n",
    "    def forward(self, x):\n",
    "        return self.model(x)\n",
    "\n",
    "model = MLP().to(device)\n"
   ]
  },
  {
   "cell_type": "code",
   "execution_count": 13,
   "id": "126d3321-90b9-42f9-8a7c-4c36c050d7ec",
   "metadata": {},
   "outputs": [],
   "source": [
    "# 손실함수와 최적화함수 정의\n",
    "criterion = nn.CrossEntropyLoss()\n",
    "optimizer = optim.Adam(model.parameters(), lr=0.001)"
   ]
  },
  {
   "cell_type": "code",
   "execution_count": 14,
   "id": "f4de3676-dc86-4bf3-96d6-f6224e85c8bd",
   "metadata": {},
   "outputs": [
    {
     "name": "stdout",
     "output_type": "stream",
     "text": [
      "[Epoch 10/300] Loss: 2.0415\n",
      "[Epoch 20/300] Loss: 1.6294\n",
      "[Epoch 30/300] Loss: 1.1148\n",
      "[Epoch 40/300] Loss: 0.6726\n",
      "[Epoch 50/300] Loss: 0.3973\n",
      "[Epoch 60/300] Loss: 0.2479\n",
      "[Epoch 70/300] Loss: 0.1675\n",
      "[Epoch 80/300] Loss: 0.1196\n",
      "[Epoch 90/300] Loss: 0.0887\n",
      "[Epoch 100/300] Loss: 0.0673\n",
      "[Epoch 110/300] Loss: 0.0521\n",
      "[Epoch 120/300] Loss: 0.0410\n",
      "[Epoch 130/300] Loss: 0.0327\n",
      "[Epoch 140/300] Loss: 0.0265\n",
      "[Epoch 150/300] Loss: 0.0218\n",
      "[Epoch 160/300] Loss: 0.0182\n",
      "[Epoch 170/300] Loss: 0.0154\n",
      "[Epoch 180/300] Loss: 0.0132\n",
      "[Epoch 190/300] Loss: 0.0114\n",
      "[Epoch 200/300] Loss: 0.0100\n",
      "[Epoch 210/300] Loss: 0.0088\n",
      "[Epoch 220/300] Loss: 0.0078\n",
      "[Epoch 230/300] Loss: 0.0070\n",
      "[Epoch 240/300] Loss: 0.0063\n",
      "[Epoch 250/300] Loss: 0.0057\n",
      "[Epoch 260/300] Loss: 0.0051\n",
      "[Epoch 270/300] Loss: 0.0047\n",
      "[Epoch 280/300] Loss: 0.0043\n",
      "[Epoch 290/300] Loss: 0.0040\n",
      "[Epoch 300/300] Loss: 0.0037\n"
     ]
    }
   ],
   "source": [
    "# MLP 모델 학습\n",
    "epochs = 300\n",
    "train_losses = []\n",
    "\n",
    "for epoch in range(epochs):\n",
    "    model.train()\n",
    "    optimizer.zero_grad()\n",
    "    outputs = model(X_train_tensor)\n",
    "    loss = criterion(outputs, y_train_tensor)\n",
    "    loss.backward()\n",
    "    optimizer.step()\n",
    "    train_losses.append(loss.item())\n",
    "    if (epoch+1) % 10 == 0:\n",
    "        print(f\"[Epoch {epoch+1}/{epochs}] Loss: {loss.item():.4f}\")"
   ]
  },
  {
   "cell_type": "code",
   "execution_count": 15,
   "id": "1d08a412-0d03-44e2-bd5a-0a987f63605c",
   "metadata": {},
   "outputs": [
    {
     "data": {
      "image/png": "[encoded data removed]",
      "text/plain": [
       "<Figure size 640x480 with 1 Axes>"
      ]
     },
     "metadata": {},
     "output_type": "display_data"
    }
   ],
   "source": [
    "# 손실 값 시각화\n",
    "plt.figure()\n",
    "plt.plot(train_losses, label=\"Training Loss\")\n",
    "plt.xlabel(\"Epoch\")\n",
    "plt.ylabel(\"Loss\")\n",
    "plt.title(\"Training Loss over Epochs\")\n",
    "plt.grid(True)\n",
    "plt.legend()\n",
    "plt.tight_layout()\n",
    "plt.show()"
   ]
  },
  {
   "cell_type": "code",
   "execution_count": 16,
   "id": "23da8d10-f468-4786-8bc0-f41dd5a5ffba",
   "metadata": {},
   "outputs": [],
   "source": [
    "# MLP 모델 평가\n",
    "model.eval()\n",
    "with torch.no_grad():\n",
    "    outputs = model(X_test_tensor)\n",
    "    _, predicted = torch.max(outputs, 1)\n",
    "    y_pred = predicted.cpu().numpy()\n",
    "    y_true = y_test_tensor.cpu().numpy()\n",
    "    y_prob = torch.softmax(outputs, dim=1).cpu().numpy()"
   ]
  },
  {
   "cell_type": "code",
   "execution_count": 17,
   "id": "32ef831f-4a86-496b-8ca5-1a34f118223c",
   "metadata": {},
   "outputs": [
    {
     "data": {
      "text/plain": [
       "array([1, 3, 1, 5, 0, 6, 6, 7, 4, 9, 3, 9, 7, 7, 6, 1, 5, 7, 3, 3, 9, 8,\n",
       "       5, 5, 4, 4, 9, 3, 2, 3, 6, 0, 2, 0, 4, 6, 1, 2, 5, 5, 2, 3, 1, 3,\n",
       "       2, 6, 5, 8, 9, 6, 0, 4, 6, 5, 1, 6, 6, 6, 2, 3, 1, 2, 9, 9, 4, 6,\n",
       "       1, 5, 0, 9, 9, 8, 4, 7, 7, 9, 0, 0, 4, 9, 5, 4, 1, 9, 0, 0, 5, 6,\n",
       "       5, 7, 3, 5, 3, 1, 5, 9, 2, 3, 9, 7, 4, 0, 0, 9, 2, 7, 3, 1, 4, 9,\n",
       "       3, 8, 2, 5, 1, 1, 6, 9, 4, 3, 7, 1, 8, 1, 9, 7, 9, 0, 3, 2, 7, 7,\n",
       "       2, 4, 0, 8, 7, 1, 5, 7, 2, 4, 2, 9, 5, 9, 5, 4, 4, 2, 0, 3, 3, 7,\n",
       "       2, 5, 1, 5, 1, 0, 6, 7, 7, 3, 2, 3, 1, 0, 7, 3, 0, 7, 4, 9, 2, 5,\n",
       "       3, 0, 0, 9, 5, 3, 7, 6, 5, 3, 4, 6, 0, 6, 6, 3, 4, 6, 2, 1, 8, 9,\n",
       "       7, 4, 3, 4, 2, 4, 8, 0, 3, 1, 2, 4, 7, 2, 0, 8, 8, 6, 1, 8, 4, 5,\n",
       "       1, 0, 2, 8, 4, 2, 0, 1, 6, 8, 3, 5, 8, 3, 1, 9, 0, 4, 6, 2, 9, 6,\n",
       "       7, 1, 0, 4, 6, 0, 8, 2, 8, 9, 1, 2, 3, 9, 4, 7, 5, 7, 2, 9, 4, 6,\n",
       "       2, 8, 7, 5, 8, 8, 0, 3, 2, 3, 1, 2, 6, 8, 5, 2, 8, 3, 1, 3, 0, 5,\n",
       "       3, 1, 7, 2, 0, 1, 0, 9, 7, 9, 2, 3, 5, 3, 0, 2, 9, 1, 6, 1, 9, 5,\n",
       "       5, 5, 4, 7, 7, 9, 3, 6, 9, 4, 6, 1, 8, 5, 3, 7, 0, 2, 2, 6, 4, 1,\n",
       "       7, 9, 2, 0, 8, 4, 6, 7, 3, 1, 5, 4, 7, 2, 4, 9, 4, 2, 1, 4, 7, 1,\n",
       "       7, 2, 9, 2, 6, 7, 3, 7, 3, 2, 9, 9, 8, 8, 9, 4, 1, 7, 9, 4, 8, 9,\n",
       "       8, 8, 4, 1, 3, 0, 0, 0, 9, 6, 8, 4, 7, 0, 7, 3, 1, 8, 5, 7, 0, 9,\n",
       "       5, 0, 6, 9, 4, 7, 5, 6, 1, 5, 3, 4, 6, 5, 1, 6, 8, 7, 0, 8, 3, 6,\n",
       "       5, 0, 3, 2, 3, 5, 6, 4, 5, 2, 8, 6, 4, 1, 8, 6, 6, 2, 5, 8, 8, 9,\n",
       "       1, 7, 3, 2, 3, 4, 7, 1, 1, 4, 1, 8, 6, 2, 3, 6, 1, 7, 8, 8, 4, 0,\n",
       "       6, 8, 5, 2, 3, 2, 9, 0, 5, 0, 4, 7, 1, 5, 0, 2, 6, 0, 0, 3, 1, 8,\n",
       "       6, 7, 7, 6, 5, 0, 1, 8, 3, 8, 9, 9, 5, 7, 8, 3, 9, 7, 3, 8, 6, 5,\n",
       "       5, 5, 2, 9, 8, 0, 9, 0, 4, 7, 1, 8, 0, 4, 2, 9, 1, 0, 4, 6, 3, 1,\n",
       "       6, 5, 4, 5, 1, 8, 2, 7, 9, 6, 1, 1], dtype=int64)"
      ]
     },
     "execution_count": 17,
     "metadata": {},
     "output_type": "execute_result"
    }
   ],
   "source": [
    "# Class 예측\n",
    "y_pred"
   ]
  },
  {
   "cell_type": "code",
   "execution_count": 18,
   "id": "1caf5412-11c3-4ea5-95ce-02eaa595e33a",
   "metadata": {},
   "outputs": [
    {
     "data": {
      "text/html": [
       "<div>\n",
       "<style scoped>\n",
       "    .dataframe tbody tr th:only-of-type {\n",
       "        vertical-align: middle;\n",
       "    }\n",
       "\n",
       "    .dataframe tbody tr th {\n",
       "        vertical-align: top;\n",
       "    }\n",
       "\n",
       "    .dataframe thead th {\n",
       "        text-align: right;\n",
       "    }\n",
       "</style>\n",
       "<table border=\"1\" class=\"dataframe\">\n",
       "  <thead>\n",
       "    <tr style=\"text-align: right;\">\n",
       "      <th></th>\n",
       "      <th>0</th>\n",
       "      <th>1</th>\n",
       "      <th>2</th>\n",
       "      <th>3</th>\n",
       "      <th>4</th>\n",
       "      <th>5</th>\n",
       "      <th>6</th>\n",
       "      <th>7</th>\n",
       "      <th>8</th>\n",
       "      <th>9</th>\n",
       "    </tr>\n",
       "  </thead>\n",
       "  <tbody>\n",
       "    <tr>\n",
       "      <th>0</th>\n",
       "      <td>6.498722e-10</td>\n",
       "      <td>9.998837e-01</td>\n",
       "      <td>5.758804e-05</td>\n",
       "      <td>0.000001</td>\n",
       "      <td>8.901981e-07</td>\n",
       "      <td>1.553839e-05</td>\n",
       "      <td>3.621404e-05</td>\n",
       "      <td>4.378254e-08</td>\n",
       "      <td>8.992868e-08</td>\n",
       "      <td>4.982568e-06</td>\n",
       "    </tr>\n",
       "    <tr>\n",
       "      <th>1</th>\n",
       "      <td>2.991947e-07</td>\n",
       "      <td>7.221934e-06</td>\n",
       "      <td>2.997183e-04</td>\n",
       "      <td>0.999515</td>\n",
       "      <td>1.997851e-07</td>\n",
       "      <td>1.042961e-05</td>\n",
       "      <td>1.095161e-06</td>\n",
       "      <td>6.840248e-05</td>\n",
       "      <td>3.215110e-06</td>\n",
       "      <td>9.398473e-05</td>\n",
       "    </tr>\n",
       "    <tr>\n",
       "      <th>2</th>\n",
       "      <td>2.968605e-07</td>\n",
       "      <td>9.984717e-01</td>\n",
       "      <td>2.456275e-05</td>\n",
       "      <td>0.000009</td>\n",
       "      <td>2.912097e-04</td>\n",
       "      <td>8.241932e-06</td>\n",
       "      <td>1.322281e-05</td>\n",
       "      <td>3.639174e-04</td>\n",
       "      <td>7.952371e-04</td>\n",
       "      <td>2.240330e-05</td>\n",
       "    </tr>\n",
       "    <tr>\n",
       "      <th>3</th>\n",
       "      <td>1.863278e-08</td>\n",
       "      <td>5.676808e-08</td>\n",
       "      <td>1.034184e-08</td>\n",
       "      <td>0.000010</td>\n",
       "      <td>1.940024e-08</td>\n",
       "      <td>9.999793e-01</td>\n",
       "      <td>5.935439e-08</td>\n",
       "      <td>1.089137e-05</td>\n",
       "      <td>3.517068e-08</td>\n",
       "      <td>2.081917e-07</td>\n",
       "    </tr>\n",
       "    <tr>\n",
       "      <th>4</th>\n",
       "      <td>9.999257e-01</td>\n",
       "      <td>1.699448e-08</td>\n",
       "      <td>3.968741e-07</td>\n",
       "      <td>0.000001</td>\n",
       "      <td>2.133528e-06</td>\n",
       "      <td>6.742006e-06</td>\n",
       "      <td>6.207140e-05</td>\n",
       "      <td>5.010546e-07</td>\n",
       "      <td>1.121899e-07</td>\n",
       "      <td>1.217137e-06</td>\n",
       "    </tr>\n",
       "    <tr>\n",
       "      <th>...</th>\n",
       "      <td>...</td>\n",
       "      <td>...</td>\n",
       "      <td>...</td>\n",
       "      <td>...</td>\n",
       "      <td>...</td>\n",
       "      <td>...</td>\n",
       "      <td>...</td>\n",
       "      <td>...</td>\n",
       "      <td>...</td>\n",
       "      <td>...</td>\n",
       "    </tr>\n",
       "    <tr>\n",
       "      <th>535</th>\n",
       "      <td>8.029584e-05</td>\n",
       "      <td>3.292556e-06</td>\n",
       "      <td>4.086824e-07</td>\n",
       "      <td>0.000007</td>\n",
       "      <td>4.905431e-04</td>\n",
       "      <td>3.493043e-04</td>\n",
       "      <td>9.474922e-07</td>\n",
       "      <td>9.989644e-01</td>\n",
       "      <td>9.496950e-07</td>\n",
       "      <td>1.027799e-04</td>\n",
       "    </tr>\n",
       "    <tr>\n",
       "      <th>536</th>\n",
       "      <td>4.543641e-06</td>\n",
       "      <td>1.254980e-05</td>\n",
       "      <td>2.700277e-06</td>\n",
       "      <td>0.000034</td>\n",
       "      <td>4.315481e-05</td>\n",
       "      <td>1.737071e-05</td>\n",
       "      <td>9.507381e-07</td>\n",
       "      <td>5.201851e-05</td>\n",
       "      <td>2.654370e-03</td>\n",
       "      <td>9.971780e-01</td>\n",
       "    </tr>\n",
       "    <tr>\n",
       "      <th>537</th>\n",
       "      <td>1.884191e-06</td>\n",
       "      <td>2.479266e-05</td>\n",
       "      <td>3.179183e-06</td>\n",
       "      <td>0.000024</td>\n",
       "      <td>2.795586e-05</td>\n",
       "      <td>3.273763e-06</td>\n",
       "      <td>9.995114e-01</td>\n",
       "      <td>1.843668e-07</td>\n",
       "      <td>4.026056e-04</td>\n",
       "      <td>1.923250e-07</td>\n",
       "    </tr>\n",
       "    <tr>\n",
       "      <th>538</th>\n",
       "      <td>8.509498e-08</td>\n",
       "      <td>9.996790e-01</td>\n",
       "      <td>1.186137e-05</td>\n",
       "      <td>0.000029</td>\n",
       "      <td>2.018183e-05</td>\n",
       "      <td>8.529164e-07</td>\n",
       "      <td>2.436518e-06</td>\n",
       "      <td>1.080443e-05</td>\n",
       "      <td>4.004277e-05</td>\n",
       "      <td>2.061093e-04</td>\n",
       "    </tr>\n",
       "    <tr>\n",
       "      <th>539</th>\n",
       "      <td>5.648896e-09</td>\n",
       "      <td>9.936008e-01</td>\n",
       "      <td>6.277651e-03</td>\n",
       "      <td>0.000005</td>\n",
       "      <td>1.465387e-06</td>\n",
       "      <td>3.095408e-05</td>\n",
       "      <td>6.927922e-05</td>\n",
       "      <td>1.396653e-07</td>\n",
       "      <td>1.833920e-06</td>\n",
       "      <td>1.279827e-05</td>\n",
       "    </tr>\n",
       "  </tbody>\n",
       "</table>\n",
       "<p>540 rows × 10 columns</p>\n",
       "</div>"
      ],
      "text/plain": [
       "                0             1             2         3             4  \\\n",
       "0    6.498722e-10  9.998837e-01  5.758804e-05  0.000001  8.901981e-07   \n",
       "1    2.991947e-07  7.221934e-06  2.997183e-04  0.999515  1.997851e-07   \n",
       "2    2.968605e-07  9.984717e-01  2.456275e-05  0.000009  2.912097e-04   \n",
       "3    1.863278e-08  5.676808e-08  1.034184e-08  0.000010  1.940024e-08   \n",
       "4    9.999257e-01  1.699448e-08  3.968741e-07  0.000001  2.133528e-06   \n",
       "..            ...           ...           ...       ...           ...   \n",
       "535  8.029584e-05  3.292556e-06  4.086824e-07  0.000007  4.905431e-04   \n",
       "536  4.543641e-06  1.254980e-05  2.700277e-06  0.000034  4.315481e-05   \n",
       "537  1.884191e-06  2.479266e-05  3.179183e-06  0.000024  2.795586e-05   \n",
       "538  8.509498e-08  9.996790e-01  1.186137e-05  0.000029  2.018183e-05   \n",
       "539  5.648896e-09  9.936008e-01  6.277651e-03  0.000005  1.465387e-06   \n",
       "\n",
       "                5             6             7             8             9  \n",
       "0    1.553839e-05  3.621404e-05  4.378254e-08  8.992868e-08  4.982568e-06  \n",
       "1    1.042961e-05  1.095161e-06  6.840248e-05  3.215110e-06  9.398473e-05  \n",
       "2    8.241932e-06  1.322281e-05  3.639174e-04  7.952371e-04  2.240330e-05  \n",
       "3    9.999793e-01  5.935439e-08  1.089137e-05  3.517068e-08  2.081917e-07  \n",
       "4    6.742006e-06  6.207140e-05  5.010546e-07  1.121899e-07  1.217137e-06  \n",
       "..            ...           ...           ...           ...           ...  \n",
       "535  3.493043e-04  9.474922e-07  9.989644e-01  9.496950e-07  1.027799e-04  \n",
       "536  1.737071e-05  9.507381e-07  5.201851e-05  2.654370e-03  9.971780e-01  \n",
       "537  3.273763e-06  9.995114e-01  1.843668e-07  4.026056e-04  1.923250e-07  \n",
       "538  8.529164e-07  2.436518e-06  1.080443e-05  4.004277e-05  2.061093e-04  \n",
       "539  3.095408e-05  6.927922e-05  1.396653e-07  1.833920e-06  1.279827e-05  \n",
       "\n",
       "[540 rows x 10 columns]"
      ]
     },
     "execution_count": 18,
     "metadata": {},
     "output_type": "execute_result"
    }
   ],
   "source": [
    "# 각 Class에 할당될 확률 예측\n",
    "pd.DataFrame(y_prob)"
   ]
  },
  {
   "cell_type": "code",
   "execution_count": 19,
   "id": "da0a9f74-2584-4e52-a173-f5e6d12fb49e",
   "metadata": {},
   "outputs": [
    {
     "data": {
      "text/plain": [
       "array([[53,  0,  0,  0,  1,  0,  0,  0,  0,  0],\n",
       "       [ 0, 54,  0,  1,  0,  0,  0,  0,  0,  0],\n",
       "       [ 0,  0, 53,  0,  0,  0,  0,  0,  0,  0],\n",
       "       [ 0,  0,  0, 55,  0,  0,  0,  0,  0,  0],\n",
       "       [ 0,  0,  0,  0, 52,  0,  0,  1,  1,  0],\n",
       "       [ 0,  0,  0,  0,  0, 54,  0,  0,  0,  1],\n",
       "       [ 0,  0,  0,  0,  0,  0, 53,  0,  1,  0],\n",
       "       [ 0,  0,  0,  0,  0,  0,  0, 54,  0,  0],\n",
       "       [ 0,  4,  1,  1,  0,  0,  0,  0, 46,  0],\n",
       "       [ 0,  0,  0,  0,  0,  0,  0,  0,  0, 54]], dtype=int64)"
      ]
     },
     "execution_count": 19,
     "metadata": {},
     "output_type": "execute_result"
    }
   ],
   "source": [
    "# 분류 평가 지표: Confusion matrix\n",
    "confusion_matrix(y_true, y_pred)"
   ]
  },
  {
   "cell_type": "code",
   "execution_count": 20,
   "id": "a8cdc364-a5ce-423c-9d55-c7ecc392acdd",
   "metadata": {},
   "outputs": [
    {
     "name": "stdout",
     "output_type": "stream",
     "text": [
      "              precision    recall  f1-score   support\n",
      "\n",
      "           0       1.00      0.98      0.99        54\n",
      "           1       0.93      0.98      0.96        55\n",
      "           2       0.98      1.00      0.99        53\n",
      "           3       0.96      1.00      0.98        55\n",
      "           4       0.98      0.96      0.97        54\n",
      "           5       1.00      0.98      0.99        55\n",
      "           6       1.00      0.98      0.99        54\n",
      "           7       0.98      1.00      0.99        54\n",
      "           8       0.96      0.88      0.92        52\n",
      "           9       0.98      1.00      0.99        54\n",
      "\n",
      "    accuracy                           0.98       540\n",
      "   macro avg       0.98      0.98      0.98       540\n",
      "weighted avg       0.98      0.98      0.98       540\n",
      "\n"
     ]
    }
   ],
   "source": [
    "# 분류 평가 지표: Precision, Recall, F1 score\n",
    "print(classification_report(y_true, y_pred))"
   ]
  },
  {
   "cell_type": "markdown",
   "id": "88a35609-eec6-499f-a742-1a2df00620b6",
   "metadata": {},
   "source": [
    "## (1) K-fold Cross Validation"
   ]
  },
  {
   "cell_type": "code",
   "execution_count": 21,
   "id": "fbef2d2b-de9d-4eab-80e6-22117b353426",
   "metadata": {},
   "outputs": [],
   "source": [
    "# MLP 모델 정의\n",
    "from sklearn.neural_network import MLPClassifier\n",
    "mlp = MLPClassifier(hidden_layer_sizes=(128, 64), max_iter=300, random_state=42)"
   ]
  },
  {
   "cell_type": "code",
   "execution_count": 22,
   "id": "a21230dd-2e49-4c25-ac2e-b266067ead9e",
   "metadata": {},
   "outputs": [],
   "source": [
    "# K-Fold 설정\n",
    "from sklearn.model_selection import cross_val_score, StratifiedKFold\n",
    "cv = StratifiedKFold(n_splits=5, shuffle=True, random_state=42)"
   ]
  },
  {
   "cell_type": "code",
   "execution_count": 23,
   "id": "294e2655-8852-4ec8-99fb-7bce456dd280",
   "metadata": {},
   "outputs": [
    {
     "name": "stdout",
     "output_type": "stream",
     "text": [
      "각 fold 정확도: [0.96031746 0.98412698 0.94820717 0.98406375 0.98007968]\n",
      "평균 정확도: 0.9714\n"
     ]
    }
   ],
   "source": [
    "# 정확도 기준 성능 평가\n",
    "scores = cross_val_score(mlp, X_train, y_train, cv=cv, scoring='accuracy')\n",
    "print(f'각 fold 정확도: {scores}')\n",
    "print(f'평균 정확도: {np.mean(scores):.4f}')"
   ]
  },
  {
   "cell_type": "markdown",
   "id": "b0b63a6c-8265-4b3f-842b-e91c6996edf5",
   "metadata": {},
   "source": [
    "## (2) Grid Search 기반 Hyperparameter Tuning"
   ]
  },
  {
   "cell_type": "code",
   "execution_count": 24,
   "id": "2f3c9ce2-23f8-4c70-b70d-cd5981a66b20",
   "metadata": {},
   "outputs": [],
   "source": [
    "from sklearn.model_selection import GridSearchCV\n",
    "\n",
    "# Grid Search 탐색 공간 정의\n",
    "param_grid = {\n",
    "    'hidden_layer_sizes': [(64, 32), (128, 64), (100,), (50, 30, 10)],\n",
    "    'activation': ['relu', 'tanh'],\n",
    "    'solver': ['adam'],\n",
    "    'alpha': [0.0001, 0.001],\n",
    "    'learning_rate': ['constant', 'adaptive']\n",
    "}\n",
    "\n",
    "# Grid Search 모델 정의\n",
    "grid_search = GridSearchCV(MLPClassifier(max_iter=300), param_grid, cv=3, scoring='accuracy', n_jobs=-1)"
   ]
  },
  {
   "cell_type": "code",
   "execution_count": 25,
   "id": "2df2c951-35bc-4665-8864-62f7a1f27b28",
   "metadata": {},
   "outputs": [
    {
     "name": "stdout",
     "output_type": "stream",
     "text": [
      "Best params: {'activation': 'relu', 'alpha': 0.001, 'hidden_layer_sizes': (100,), 'learning_rate': 'constant', 'solver': 'adam'}\n",
      "Best CV accuracy: 0.9777247414478918\n"
     ]
    }
   ],
   "source": [
    "# Grid Search 모델 학습\n",
    "grid_search.fit(X_train, y_train)\n",
    "\n",
    "# 최적의 조합/점수 반환\n",
    "print(\"Best params:\", grid_search.best_params_)\n",
    "print(\"Best CV accuracy:\", grid_search.best_score_)"
   ]
  },
  {
   "cell_type": "markdown",
   "id": "b0936b1a-8662-4e2b-9684-11053bfddb33",
   "metadata": {},
   "source": [
    "## (3) 클래스 불균형 문제 발생 시, 데이터 증강"
   ]
  },
  {
   "cell_type": "code",
   "execution_count": 26,
   "id": "f46a27d5-a530-4a9f-8c53-ac39162a81bc",
   "metadata": {},
   "outputs": [
    {
     "data": {
      "text/plain": [
       "Counter({0: 124,\n",
       "         7: 125,\n",
       "         1: 127,\n",
       "         3: 128,\n",
       "         5: 127,\n",
       "         6: 127,\n",
       "         4: 127,\n",
       "         8: 122,\n",
       "         2: 124,\n",
       "         9: 126})"
      ]
     },
     "execution_count": 26,
     "metadata": {},
     "output_type": "execute_result"
    }
   ],
   "source": [
    "# 현재 각 클래스 수 확인\n",
    "original_counts = Counter(y_train)\n",
    "original_counts"
   ]
  },
  {
   "cell_type": "code",
   "execution_count": 27,
   "id": "9faa6ed9-62bc-4f2b-953a-66cf6acd9efc",
   "metadata": {},
   "outputs": [
    {
     "name": "stderr",
     "output_type": "stream",
     "text": [
      "C:\\Users\\ysbye\\anaconda3\\lib\\site-packages\\imblearn\\utils\\_validation.py:313: UserWarning: After over-sampling, the number of samples (381) in class 1 will be larger than the number of samples in the majority class (class #3 -> 128)\n",
      "  warnings.warn(\n",
      "C:\\Users\\ysbye\\anaconda3\\lib\\site-packages\\imblearn\\utils\\_validation.py:313: UserWarning: After over-sampling, the number of samples (366) in class 8 will be larger than the number of samples in the majority class (class #3 -> 128)\n",
      "  warnings.warn(\n"
     ]
    },
    {
     "name": "stdout",
     "output_type": "stream",
     "text": [
      "(1257, 64) (1257,)\n",
      "(1755, 64) (1755,)\n"
     ]
    }
   ],
   "source": [
    "from imblearn.over_sampling import SMOTE\n",
    "\n",
    "# 1번 클래스와 7번 클래스만 2배로 늘리기\n",
    "smote_target = {\n",
    "    1: original_counts[1] * 3,\n",
    "    8: original_counts[8] * 3\n",
    "}\n",
    "\n",
    "# SMOTE 적용\n",
    "smote = SMOTE(sampling_strategy=smote_target, random_state=42)\n",
    "X_res, y_res = smote.fit_resample(X_train, y_train)\n",
    "\n",
    "print(X_train.shape, y_train.shape)\n",
    "print(X_res.shape, y_res.shape)"
   ]
  },
  {
   "cell_type": "code",
   "execution_count": 28,
   "id": "f7dc86ba-b06d-4920-b461-4b1c7a4e0696",
   "metadata": {},
   "outputs": [
    {
     "data": {
      "text/plain": [
       "Counter({0: 124,\n",
       "         7: 125,\n",
       "         1: 381,\n",
       "         3: 128,\n",
       "         5: 127,\n",
       "         6: 127,\n",
       "         4: 127,\n",
       "         8: 366,\n",
       "         2: 124,\n",
       "         9: 126})"
      ]
     },
     "execution_count": 28,
     "metadata": {},
     "output_type": "execute_result"
    }
   ],
   "source": [
    "# 현재 각 클래스 수 확인\n",
    "augmented_counts = Counter(y_res)\n",
    "augmented_counts"
   ]
  },
  {
   "cell_type": "code",
   "execution_count": 29,
   "id": "675a4612-9b5d-484e-a6bc-60bb3fb9e6c3",
   "metadata": {},
   "outputs": [
    {
     "data": {
      "text/html": [
       "<style>#sk-container-id-1 {color: black;background-color: white;}#sk-container-id-1 pre{padding: 0;}#sk-container-id-1 div.sk-toggleable {background-color: white;}#sk-container-id-1 label.sk-toggleable__label {cursor: pointer;display: block;width: 100%;margin-bottom: 0;padding: 0.3em;box-sizing: border-box;text-align: center;}#sk-container-id-1 label.sk-toggleable__label-arrow:before {content: \"▸\";float: left;margin-right: 0.25em;color: #696969;}#sk-container-id-1 label.sk-toggleable__label-arrow:hover:before {color: black;}#sk-container-id-1 div.sk-estimator:hover label.sk-toggleable__label-arrow:before {color: black;}#sk-container-id-1 div.sk-toggleable__content {max-height: 0;max-width: 0;overflow: hidden;text-align: left;background-color: #f0f8ff;}#sk-container-id-1 div.sk-toggleable__content pre {margin: 0.2em;color: black;border-radius: 0.25em;background-color: #f0f8ff;}#sk-container-id-1 input.sk-toggleable__control:checked~div.sk-toggleable__content {max-height: 200px;max-width: 100%;overflow: auto;}#sk-container-id-1 input.sk-toggleable__control:checked~label.sk-toggleable__label-arrow:before {content: \"▾\";}#sk-container-id-1 div.sk-estimator input.sk-toggleable__control:checked~label.sk-toggleable__label {background-color: #d4ebff;}#sk-container-id-1 div.sk-label input.sk-toggleable__control:checked~label.sk-toggleable__label {background-color: #d4ebff;}#sk-container-id-1 input.sk-hidden--visually {border: 0;clip: rect(1px 1px 1px 1px);clip: rect(1px, 1px, 1px, 1px);height: 1px;margin: -1px;overflow: hidden;padding: 0;position: absolute;width: 1px;}#sk-container-id-1 div.sk-estimator {font-family: monospace;background-color: #f0f8ff;border: 1px dotted black;border-radius: 0.25em;box-sizing: border-box;margin-bottom: 0.5em;}#sk-container-id-1 div.sk-estimator:hover {background-color: #d4ebff;}#sk-container-id-1 div.sk-parallel-item::after {content: \"\";width: 100%;border-bottom: 1px solid gray;flex-grow: 1;}#sk-container-id-1 div.sk-label:hover label.sk-toggleable__label {background-color: #d4ebff;}#sk-container-id-1 div.sk-serial::before {content: \"\";position: absolute;border-left: 1px solid gray;box-sizing: border-box;top: 0;bottom: 0;left: 50%;z-index: 0;}#sk-container-id-1 div.sk-serial {display: flex;flex-direction: column;align-items: center;background-color: white;padding-right: 0.2em;padding-left: 0.2em;position: relative;}#sk-container-id-1 div.sk-item {position: relative;z-index: 1;}#sk-container-id-1 div.sk-parallel {display: flex;align-items: stretch;justify-content: center;background-color: white;position: relative;}#sk-container-id-1 div.sk-item::before, #sk-container-id-1 div.sk-parallel-item::before {content: \"\";position: absolute;border-left: 1px solid gray;box-sizing: border-box;top: 0;bottom: 0;left: 50%;z-index: -1;}#sk-container-id-1 div.sk-parallel-item {display: flex;flex-direction: column;z-index: 1;position: relative;background-color: white;}#sk-container-id-1 div.sk-parallel-item:first-child::after {align-self: flex-end;width: 50%;}#sk-container-id-1 div.sk-parallel-item:last-child::after {align-self: flex-start;width: 50%;}#sk-container-id-1 div.sk-parallel-item:only-child::after {width: 0;}#sk-container-id-1 div.sk-dashed-wrapped {border: 1px dashed gray;margin: 0 0.4em 0.5em 0.4em;box-sizing: border-box;padding-bottom: 0.4em;background-color: white;}#sk-container-id-1 div.sk-label label {font-family: monospace;font-weight: bold;display: inline-block;line-height: 1.2em;}#sk-container-id-1 div.sk-label-container {text-align: center;}#sk-container-id-1 div.sk-container {/* jupyter's `normalize.less` sets `[hidden] { display: none; }` but bootstrap.min.css set `[hidden] { display: none !important; }` so we also need the `!important` here to be able to override the default hidden behavior on the sphinx rendered scikit-learn.org. See: https://github.com/scikit-learn/scikit-learn/issues/21755 */display: inline-block !important;position: relative;}#sk-container-id-1 div.sk-text-repr-fallback {display: none;}</style><div id=\"sk-container-id-1\" class=\"sk-top-container\"><div class=\"sk-text-repr-fallback\"><pre>MLPClassifier(hidden_layer_sizes=(128, 64), max_iter=300)</pre><b>In a Jupyter environment, please rerun this cell to show the HTML representation or trust the notebook. <br />On GitHub, the HTML representation is unable to render, please try loading this page with nbviewer.org.</b></div><div class=\"sk-container\" hidden><div class=\"sk-item\"><div class=\"sk-estimator sk-toggleable\"><input class=\"sk-toggleable__control sk-hidden--visually\" id=\"sk-estimator-id-1\" type=\"checkbox\" checked><label for=\"sk-estimator-id-1\" class=\"sk-toggleable__label sk-toggleable__label-arrow\">MLPClassifier</label><div class=\"sk-toggleable__content\"><pre>MLPClassifier(hidden_layer_sizes=(128, 64), max_iter=300)</pre></div></div></div></div></div>"
      ],
      "text/plain": [
       "MLPClassifier(hidden_layer_sizes=(128, 64), max_iter=300)"
      ]
     },
     "execution_count": 29,
     "metadata": {},
     "output_type": "execute_result"
    }
   ],
   "source": [
    "# MLP 모델 정의\n",
    "mlp = MLPClassifier(hidden_layer_sizes=(128, 64), max_iter=300)\n",
    "\n",
    "# MLP 모델 학습\n",
    "mlp.fit(X_res, y_res)"
   ]
  },
  {
   "cell_type": "code",
   "execution_count": 30,
   "id": "0d07cf56-927c-4b04-84b7-d50b2ded8dc7",
   "metadata": {},
   "outputs": [
    {
     "name": "stdout",
     "output_type": "stream",
     "text": [
      "              precision    recall  f1-score   support\n",
      "\n",
      "           0       1.00      0.98      0.99        54\n",
      "           1       0.93      0.98      0.96        55\n",
      "           2       0.98      1.00      0.99        53\n",
      "           3       1.00      1.00      1.00        55\n",
      "           4       0.98      0.98      0.98        54\n",
      "           5       1.00      0.98      0.99        55\n",
      "           6       0.98      0.96      0.97        54\n",
      "           7       1.00      1.00      1.00        54\n",
      "           8       0.96      0.92      0.94        52\n",
      "           9       0.98      1.00      0.99        54\n",
      "\n",
      "    accuracy                           0.98       540\n",
      "   macro avg       0.98      0.98      0.98       540\n",
      "weighted avg       0.98      0.98      0.98       540\n",
      "\n"
     ]
    }
   ],
   "source": [
    "# MLP 모델 평가\n",
    "y_pred = mlp.predict(X_test)\n",
    "print(classification_report(y_test, y_pred))"
   ]
  },
  {
   "cell_type": "markdown",
   "id": "b44809c3-e152-44f3-9a70-9292173a5a78",
   "metadata": {},
   "source": [
    "## (4) 효율적인 학습을 위한 early stopping"
   ]
  },
  {
   "cell_type": "code",
   "execution_count": 41,
   "id": "9eb293e5-fb4f-48b6-a292-463322815f3c",
   "metadata": {},
   "outputs": [
    {
     "data": {
      "text/html": [
       "<style>#sk-container-id-5 {color: black;background-color: white;}#sk-container-id-5 pre{padding: 0;}#sk-container-id-5 div.sk-toggleable {background-color: white;}#sk-container-id-5 label.sk-toggleable__label {cursor: pointer;display: block;width: 100%;margin-bottom: 0;padding: 0.3em;box-sizing: border-box;text-align: center;}#sk-container-id-5 label.sk-toggleable__label-arrow:before {content: \"▸\";float: left;margin-right: 0.25em;color: #696969;}#sk-container-id-5 label.sk-toggleable__label-arrow:hover:before {color: black;}#sk-container-id-5 div.sk-estimator:hover label.sk-toggleable__label-arrow:before {color: black;}#sk-container-id-5 div.sk-toggleable__content {max-height: 0;max-width: 0;overflow: hidden;text-align: left;background-color: #f0f8ff;}#sk-container-id-5 div.sk-toggleable__content pre {margin: 0.2em;color: black;border-radius: 0.25em;background-color: #f0f8ff;}#sk-container-id-5 input.sk-toggleable__control:checked~div.sk-toggleable__content {max-height: 200px;max-width: 100%;overflow: auto;}#sk-container-id-5 input.sk-toggleable__control:checked~label.sk-toggleable__label-arrow:before {content: \"▾\";}#sk-container-id-5 div.sk-estimator input.sk-toggleable__control:checked~label.sk-toggleable__label {background-color: #d4ebff;}#sk-container-id-5 div.sk-label input.sk-toggleable__control:checked~label.sk-toggleable__label {background-color: #d4ebff;}#sk-container-id-5 input.sk-hidden--visually {border: 0;clip: rect(1px 1px 1px 1px);clip: rect(1px, 1px, 1px, 1px);height: 1px;margin: -1px;overflow: hidden;padding: 0;position: absolute;width: 1px;}#sk-container-id-5 div.sk-estimator {font-family: monospace;background-color: #f0f8ff;border: 1px dotted black;border-radius: 0.25em;box-sizing: border-box;margin-bottom: 0.5em;}#sk-container-id-5 div.sk-estimator:hover {background-color: #d4ebff;}#sk-container-id-5 div.sk-parallel-item::after {content: \"\";width: 100%;border-bottom: 1px solid gray;flex-grow: 1;}#sk-container-id-5 div.sk-label:hover label.sk-toggleable__label {background-color: #d4ebff;}#sk-container-id-5 div.sk-serial::before {content: \"\";position: absolute;border-left: 1px solid gray;box-sizing: border-box;top: 0;bottom: 0;left: 50%;z-index: 0;}#sk-container-id-5 div.sk-serial {display: flex;flex-direction: column;align-items: center;background-color: white;padding-right: 0.2em;padding-left: 0.2em;position: relative;}#sk-container-id-5 div.sk-item {position: relative;z-index: 1;}#sk-container-id-5 div.sk-parallel {display: flex;align-items: stretch;justify-content: center;background-color: white;position: relative;}#sk-container-id-5 div.sk-item::before, #sk-container-id-5 div.sk-parallel-item::before {content: \"\";position: absolute;border-left: 1px solid gray;box-sizing: border-box;top: 0;bottom: 0;left: 50%;z-index: -1;}#sk-container-id-5 div.sk-parallel-item {display: flex;flex-direction: column;z-index: 1;position: relative;background-color: white;}#sk-container-id-5 div.sk-parallel-item:first-child::after {align-self: flex-end;width: 50%;}#sk-container-id-5 div.sk-parallel-item:last-child::after {align-self: flex-start;width: 50%;}#sk-container-id-5 div.sk-parallel-item:only-child::after {width: 0;}#sk-container-id-5 div.sk-dashed-wrapped {border: 1px dashed gray;margin: 0 0.4em 0.5em 0.4em;box-sizing: border-box;padding-bottom: 0.4em;background-color: white;}#sk-container-id-5 div.sk-label label {font-family: monospace;font-weight: bold;display: inline-block;line-height: 1.2em;}#sk-container-id-5 div.sk-label-container {text-align: center;}#sk-container-id-5 div.sk-container {/* jupyter's `normalize.less` sets `[hidden] { display: none; }` but bootstrap.min.css set `[hidden] { display: none !important; }` so we also need the `!important` here to be able to override the default hidden behavior on the sphinx rendered scikit-learn.org. See: https://github.com/scikit-learn/scikit-learn/issues/21755 */display: inline-block !important;position: relative;}#sk-container-id-5 div.sk-text-repr-fallback {display: none;}</style><div id=\"sk-container-id-5\" class=\"sk-top-container\"><div class=\"sk-text-repr-fallback\"><pre>MLPClassifier(early_stopping=True, hidden_layer_sizes=(128, 64), max_iter=1000,\n",
       "              n_iter_no_change=50, random_state=42)</pre><b>In a Jupyter environment, please rerun this cell to show the HTML representation or trust the notebook. <br />On GitHub, the HTML representation is unable to render, please try loading this page with nbviewer.org.</b></div><div class=\"sk-container\" hidden><div class=\"sk-item\"><div class=\"sk-estimator sk-toggleable\"><input class=\"sk-toggleable__control sk-hidden--visually\" id=\"sk-estimator-id-5\" type=\"checkbox\" checked><label for=\"sk-estimator-id-5\" class=\"sk-toggleable__label sk-toggleable__label-arrow\">MLPClassifier</label><div class=\"sk-toggleable__content\"><pre>MLPClassifier(early_stopping=True, hidden_layer_sizes=(128, 64), max_iter=1000,\n",
       "              n_iter_no_change=50, random_state=42)</pre></div></div></div></div></div>"
      ],
      "text/plain": [
       "MLPClassifier(early_stopping=True, hidden_layer_sizes=(128, 64), max_iter=1000,\n",
       "              n_iter_no_change=50, random_state=42)"
      ]
     },
     "execution_count": 41,
     "metadata": {},
     "output_type": "execute_result"
    }
   ],
   "source": [
    "# MLPClassifier 모델 정의 (Early Stopping 활성화)\n",
    "mlp = MLPClassifier(\n",
    "    hidden_layer_sizes=(128, 64),\n",
    "    max_iter=1000,\n",
    "    early_stopping=True,  # Early stopping 활성화\n",
    "    validation_fraction=0.1,  # 검증 데이터 비율\n",
    "    n_iter_no_change=50,  # 성능 개선이 없으면 10번 후 중지\n",
    "    random_state=42\n",
    ")\n",
    "\n",
    "# 학습\n",
    "mlp.fit(X_train, y_train)"
   ]
  },
  {
   "cell_type": "code",
   "execution_count": 42,
   "id": "793d90e6-0186-41f8-b1cc-07e948007b2f",
   "metadata": {},
   "outputs": [
    {
     "name": "stdout",
     "output_type": "stream",
     "text": [
      "Accuracy: 0.9685185185185186\n",
      "Classification Report:\n",
      "              precision    recall  f1-score   support\n",
      "\n",
      "           0       1.00      0.96      0.98        54\n",
      "           1       0.92      0.98      0.95        55\n",
      "           2       0.95      1.00      0.97        53\n",
      "           3       1.00      0.98      0.99        55\n",
      "           4       0.98      0.94      0.96        54\n",
      "           5       1.00      0.95      0.97        55\n",
      "           6       1.00      0.98      0.99        54\n",
      "           7       0.95      1.00      0.97        54\n",
      "           8       0.96      0.88      0.92        52\n",
      "           9       0.95      1.00      0.97        54\n",
      "\n",
      "    accuracy                           0.97       540\n",
      "   macro avg       0.97      0.97      0.97       540\n",
      "weighted avg       0.97      0.97      0.97       540\n",
      "\n"
     ]
    }
   ],
   "source": [
    "# 예측 및 성능 평가\n",
    "y_pred = mlp.predict(X_test)\n",
    "print(\"Accuracy:\", accuracy_score(y_test, y_pred))\n",
    "print(\"Classification Report:\")\n",
    "print(classification_report(y_test, y_pred))"
   ]
  },
  {
   "cell_type": "code",
   "execution_count": 43,
   "id": "237031ec-6077-4418-b311-d78bedd7b470",
   "metadata": {},
   "outputs": [
    {
     "name": "stdout",
     "output_type": "stream",
     "text": [
      "Number of iterations before stopping: 112\n"
     ]
    }
   ],
   "source": [
    "# Early Stopping 관련 정보 출력\n",
    "print(\"Number of iterations before stopping:\", mlp.n_iter_)"
   ]
  },
  {
   "cell_type": "code",
   "execution_count": null,
   "id": "78272ef4-3e61-46fb-9da1-b76a390f456a",
   "metadata": {},
   "outputs": [],
   "source": []
  }
 ],
 "metadata": {
  "kernelspec": {
   "display_name": "Python 3 (ipykernel)",
   "language": "python",
   "name": "python3"
  },
  "language_info": {
   "codemirror_mode": {
    "name": "ipython",
    "version": 3
   },
   "file_extension": ".py",
   "mimetype": "text/x-python",
   "name": "python",
   "nbconvert_exporter": "python",
   "pygments_lexer": "ipython3",
   "version": "3.10.9"
  }
 },
 "nbformat": 4,
 "nbformat_minor": 5
}
