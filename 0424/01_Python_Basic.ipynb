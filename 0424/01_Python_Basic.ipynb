{
 "cells": [
  {
   "cell_type": "markdown",
   "id": "bc1be033-9515-4596-b219-bd4fa3f7bc19",
   "metadata": {},
   "source": [
    "> # **Jupyter notebook/lab 사용법**\n",
    ">> * Shift + Enter: 셀이 실행되고 커서가 다음셀로 이동됨\n",
    ">> * Enter: 다시 편집상태로 변경됨\n",
    ">> * ESC + a: 위에 셀 추가\n",
    ">> * ESC + b: 아래에 셀 추가\n",
    ">> * ESC + dd: 셀 삭제\n",
    "\n",
    "> # **마크다운(Markdown) 활용법**\n",
    ">> * 코드와 함께 문서 작성 가능\n",
    ">> * 강조 또는 줄바꿈 가능"
   ]
  },
  {
   "cell_type": "markdown",
   "id": "d60f77d0-c9a3-4524-8cd5-c32dee2e4700",
   "metadata": {},
   "source": [
    "## **(1) 조건문(if)**"
   ]
  },
  {
   "cell_type": "code",
   "execution_count": 3,
   "id": "0fdfb24c-7910-4e9f-bf9a-33e990a384e2",
   "metadata": {},
   "outputs": [
    {
     "name": "stdout",
     "output_type": "stream",
     "text": [
      "떡볶이를 먹어라\n"
     ]
    }
   ],
   "source": [
    "# Example 1. If-else 문\n",
    "pocket = ['money','cellphone','papar']\n",
    "\n",
    "if 'money' in pocket:\n",
    "    print('떡볶이를 먹어라')\n",
    "else:\n",
    "    print('먹지 말아라')"
   ]
  },
  {
   "cell_type": "code",
   "execution_count": 4,
   "id": "05417d26-217c-4871-8c07-1df006372ba2",
   "metadata": {},
   "outputs": [
    {
     "name": "stdin",
     "output_type": "stream",
     "text": [
      "1~10사이의 숫자를 입력해주세요:  5\n"
     ]
    },
    {
     "name": "stdout",
     "output_type": "stream",
     "text": [
      "5보다 작거나 같습니다\n"
     ]
    }
   ],
   "source": [
    "# Example 2. If-elif-else 문, num 수기 입력\n",
    "num = int(input('1~10사이의 숫자를 입력해주세요: '))\n",
    "\n",
    "if num>5 and num<=10:\n",
    "    print('5보다 큽니다')\n",
    "elif num>0 and num<=5:\n",
    "    print('5보다 작거나 같습니다')\n",
    "else:\n",
    "    print('범위를 벗어납니다')"
   ]
  },
  {
   "cell_type": "markdown",
   "id": "798c2fce-d0fc-4106-a0c4-96c92961ebbb",
   "metadata": {},
   "source": [
    "## **(2) 반복문(for)**"
   ]
  },
  {
   "cell_type": "code",
   "execution_count": 5,
   "id": "68d7fd47-1cf4-42ee-93c4-57682594f367",
   "metadata": {},
   "outputs": [
    {
     "name": "stdout",
     "output_type": "stream",
     "text": [
      "hello, bitamin!\n",
      "hello, bitamin!\n",
      "hello, bitamin!\n",
      "hello, bitamin!\n",
      "hello, bitamin!\n",
      "hello, bitamin!\n",
      "hello, bitamin!\n",
      "hello, bitamin!\n",
      "hello, bitamin!\n",
      "hello, bitamin!\n"
     ]
    }
   ],
   "source": [
    "# Example 1. print 10번 사용\n",
    "print('hello, bitamin!') \n",
    "print('hello, bitamin!') \n",
    "print('hello, bitamin!') \n",
    "print('hello, bitamin!') \n",
    "print('hello, bitamin!') \n",
    "print('hello, bitamin!') \n",
    "print('hello, bitamin!') \n",
    "print('hello, bitamin!') \n",
    "print('hello, bitamin!') \n",
    "print('hello, bitamin!') "
   ]
  },
  {
   "cell_type": "code",
   "execution_count": 6,
   "id": "25c376ae-e6b2-4783-bde7-6a77df39ada1",
   "metadata": {
    "scrolled": true
   },
   "outputs": [
    {
     "name": "stdout",
     "output_type": "stream",
     "text": [
      "hello, bitamin!\n",
      "hello, bitamin!\n",
      "hello, bitamin!\n",
      "hello, bitamin!\n",
      "hello, bitamin!\n",
      "hello, bitamin!\n",
      "hello, bitamin!\n",
      "hello, bitamin!\n",
      "hello, bitamin!\n",
      "hello, bitamin!\n",
      "hello, bitamin!\n",
      "hello, bitamin!\n",
      "hello, bitamin!\n",
      "hello, bitamin!\n",
      "hello, bitamin!\n",
      "hello, bitamin!\n",
      "hello, bitamin!\n",
      "hello, bitamin!\n",
      "hello, bitamin!\n",
      "hello, bitamin!\n",
      "hello, bitamin!\n",
      "hello, bitamin!\n",
      "hello, bitamin!\n",
      "hello, bitamin!\n",
      "hello, bitamin!\n",
      "hello, bitamin!\n",
      "hello, bitamin!\n",
      "hello, bitamin!\n",
      "hello, bitamin!\n",
      "hello, bitamin!\n",
      "hello, bitamin!\n",
      "hello, bitamin!\n",
      "hello, bitamin!\n",
      "hello, bitamin!\n",
      "hello, bitamin!\n",
      "hello, bitamin!\n",
      "hello, bitamin!\n",
      "hello, bitamin!\n",
      "hello, bitamin!\n",
      "hello, bitamin!\n",
      "hello, bitamin!\n",
      "hello, bitamin!\n",
      "hello, bitamin!\n",
      "hello, bitamin!\n",
      "hello, bitamin!\n",
      "hello, bitamin!\n",
      "hello, bitamin!\n",
      "hello, bitamin!\n",
      "hello, bitamin!\n",
      "hello, bitamin!\n",
      "hello, bitamin!\n",
      "hello, bitamin!\n",
      "hello, bitamin!\n",
      "hello, bitamin!\n",
      "hello, bitamin!\n",
      "hello, bitamin!\n",
      "hello, bitamin!\n",
      "hello, bitamin!\n",
      "hello, bitamin!\n",
      "hello, bitamin!\n",
      "hello, bitamin!\n",
      "hello, bitamin!\n",
      "hello, bitamin!\n",
      "hello, bitamin!\n",
      "hello, bitamin!\n",
      "hello, bitamin!\n",
      "hello, bitamin!\n",
      "hello, bitamin!\n",
      "hello, bitamin!\n",
      "hello, bitamin!\n",
      "hello, bitamin!\n",
      "hello, bitamin!\n",
      "hello, bitamin!\n",
      "hello, bitamin!\n",
      "hello, bitamin!\n",
      "hello, bitamin!\n",
      "hello, bitamin!\n",
      "hello, bitamin!\n",
      "hello, bitamin!\n",
      "hello, bitamin!\n",
      "hello, bitamin!\n",
      "hello, bitamin!\n",
      "hello, bitamin!\n",
      "hello, bitamin!\n",
      "hello, bitamin!\n",
      "hello, bitamin!\n",
      "hello, bitamin!\n",
      "hello, bitamin!\n",
      "hello, bitamin!\n",
      "hello, bitamin!\n",
      "hello, bitamin!\n",
      "hello, bitamin!\n",
      "hello, bitamin!\n",
      "hello, bitamin!\n",
      "hello, bitamin!\n",
      "hello, bitamin!\n",
      "hello, bitamin!\n",
      "hello, bitamin!\n",
      "hello, bitamin!\n",
      "hello, bitamin!\n"
     ]
    }
   ],
   "source": [
    "# Example 2. 반복문을 통한 print 100번 사용\n",
    "for i in range(100):\n",
    "    print('hello, bitamin!')"
   ]
  },
  {
   "cell_type": "code",
   "execution_count": 7,
   "id": "9f0e31d1-fa41-4a10-a0de-facf079a65b6",
   "metadata": {},
   "outputs": [
    {
     "name": "stdout",
     "output_type": "stream",
     "text": [
      "10\n",
      "9\n",
      "8\n",
      "7\n",
      "6\n",
      "5\n",
      "4\n",
      "3\n",
      "2\n",
      "1\n"
     ]
    }
   ],
   "source": [
    "# Example 3. 숫자 반복 역순\n",
    "for i in range(10,0,-1):\n",
    "    print(i)"
   ]
  },
  {
   "cell_type": "code",
   "execution_count": 8,
   "id": "b33da300-dd1a-43ee-8d35-5daf6f9f243a",
   "metadata": {},
   "outputs": [
    {
     "name": "stdout",
     "output_type": "stream",
     "text": [
      "1 : 50 (불합격)\n",
      "2 : 70 (합격)\n",
      "3 : 80 (합격)\n",
      "4 : 20 (불합격)\n",
      "5 : 90 (합격)\n"
     ]
    }
   ],
   "source": [
    "# Example 4. If문과 For문의 병함\n",
    "score = [50,70,80,20,90]\n",
    "data = enumerate(score)\n",
    "\n",
    "for idx, sc in data:\n",
    "    if sc > 60:\n",
    "        print(idx+1,':',sc,'(합격)')\n",
    "    else:\n",
    "        print(idx+1,':',sc,'(불합격)')"
   ]
  },
  {
   "cell_type": "markdown",
   "id": "6bdcea39-8d66-4884-9ba5-95d17bc63fae",
   "metadata": {},
   "source": [
    "## **(3) 함수화(def --)**"
   ]
  },
  {
   "cell_type": "code",
   "execution_count": 9,
   "id": "b5872278-2b63-4965-aba2-cd22c981f3bc",
   "metadata": {},
   "outputs": [
    {
     "name": "stdout",
     "output_type": "stream",
     "text": [
      "7\n"
     ]
    }
   ],
   "source": [
    "# Example 1. 매개변수와 인자 이해\n",
    "def add(a,b):\n",
    "    return a+b\n",
    "\n",
    "print(add(3,4))"
   ]
  },
  {
   "cell_type": "code",
   "execution_count": 11,
   "id": "e0d3c9f3-a545-45ff-8326-1eb9e3caaeb4",
   "metadata": {},
   "outputs": [],
   "source": [
    "# Example 2. 2개 이상의 return 값\n",
    "def add_and_mul(a,b):\n",
    "    return a+b, a*b"
   ]
  },
  {
   "cell_type": "code",
   "execution_count": 12,
   "id": "4ad260d8-611f-431f-bc65-b2e2c208dce6",
   "metadata": {},
   "outputs": [
    {
     "name": "stdout",
     "output_type": "stream",
     "text": [
      "(7, 12)\n"
     ]
    }
   ],
   "source": [
    "result = add_and_mul(3,4); print(result)"
   ]
  },
  {
   "cell_type": "code",
   "execution_count": 14,
   "id": "a37fcc7b-fad8-414c-818d-548bed0b3892",
   "metadata": {},
   "outputs": [
    {
     "name": "stdout",
     "output_type": "stream",
     "text": [
      "7\n",
      "12\n"
     ]
    }
   ],
   "source": [
    "result1, result2 = add_and_mul(3,4)\n",
    "print(result1); print(result2)"
   ]
  },
  {
   "cell_type": "code",
   "execution_count": 15,
   "id": "080f15b3-8b29-4430-9cf8-d74f09dba221",
   "metadata": {},
   "outputs": [],
   "source": [
    "# Example 3. If문과 For문의 병함에 관한 함수화\n",
    "def add_mul(choice,*args):\n",
    "    \n",
    "    if choice == 'add':\n",
    "        result = 0\n",
    "        for i in args:\n",
    "            result = result + i\n",
    "    \n",
    "    elif choice == 'mul':\n",
    "        result = 1\n",
    "        for i in args:\n",
    "            result = result*i\n",
    "    \n",
    "    return result"
   ]
  },
  {
   "cell_type": "code",
   "execution_count": 16,
   "id": "38ac512a-1cba-48b9-8e54-e3681399cfa6",
   "metadata": {},
   "outputs": [
    {
     "data": {
      "text/plain": [
       "15"
      ]
     },
     "execution_count": 16,
     "metadata": {},
     "output_type": "execute_result"
    }
   ],
   "source": [
    "add_mul('add',1,2,3,4,5)"
   ]
  },
  {
   "cell_type": "code",
   "execution_count": 17,
   "id": "646e0315-74ce-4b16-9867-61afe0b42745",
   "metadata": {},
   "outputs": [
    {
     "data": {
      "text/plain": [
       "120"
      ]
     },
     "execution_count": 17,
     "metadata": {},
     "output_type": "execute_result"
    }
   ],
   "source": [
    "add_mul('mul',1,2,3,4,5,)"
   ]
  },
  {
   "cell_type": "code",
   "execution_count": 18,
   "id": "f60e2312-1c6d-4e73-85ae-84e569a90412",
   "metadata": {},
   "outputs": [],
   "source": [
    "# Example 4. 매개변수에 default 값 설정하기\n",
    "def hello(name, age, univ = '국민대학교'):\n",
    "    print('안녕하세요')\n",
    "    print('저는',name,'입니다')\n",
    "    print('나이는',age,'살 입니다')\n",
    "    \n",
    "    if univ == '국민대':\n",
    "        print('국민대학교 학생 입니다~!')\n",
    "    else:\n",
    "        print(univ,'학생 입니다~!')"
   ]
  },
  {
   "cell_type": "code",
   "execution_count": 19,
   "id": "eeb8ba3a-32c4-4044-91fd-9e52aad75390",
   "metadata": {},
   "outputs": [
    {
     "name": "stdout",
     "output_type": "stream",
     "text": [
      "안녕하세요\n",
      "저는 이소연 입니다\n",
      "나이는 22 살 입니다\n",
      "국민대학교 학생 입니다~!\n"
     ]
    }
   ],
   "source": [
    "hello('이소연', 22)"
   ]
  },
  {
   "cell_type": "code",
   "execution_count": 20,
   "id": "0542b703-9fb0-4f89-b0ee-8237a56a9095",
   "metadata": {},
   "outputs": [
    {
     "name": "stdout",
     "output_type": "stream",
     "text": [
      "안녕하세요\n",
      "저는 이소연 입니다\n",
      "나이는 22 살 입니다\n",
      "서울대학교 학생 입니다~!\n"
     ]
    }
   ],
   "source": [
    "hello('이소연', 22, '서울대학교')"
   ]
  },
  {
   "cell_type": "code",
   "execution_count": null,
   "id": "9a78a6c3-45be-44a7-91d7-b6d3617ce40f",
   "metadata": {},
   "outputs": [],
   "source": []
  }
 ],
 "metadata": {
  "kernelspec": {
   "display_name": "Python 3 (ipykernel)",
   "language": "python",
   "name": "python3"
  },
  "language_info": {
   "codemirror_mode": {
    "name": "ipython",
    "version": 3
   },
   "file_extension": ".py",
   "mimetype": "text/x-python",
   "name": "python",
   "nbconvert_exporter": "python",
   "pygments_lexer": "ipython3",
   "version": "3.12.7"
  }
 },
 "nbformat": 4,
 "nbformat_minor": 5
}
